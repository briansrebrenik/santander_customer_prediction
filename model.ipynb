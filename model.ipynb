{
  "nbformat": 4,
  "nbformat_minor": 0,
  "metadata": {
    "colab": {
      "name": "Untitled0.ipynb",
      "version": "0.3.2",
      "provenance": [],
      "collapsed_sections": [],
      "include_colab_link": true
    },
    "kernelspec": {
      "name": "python3",
      "display_name": "Python 3"
    },
    "accelerator": "GPU"
  },
  "cells": [
    {
      "cell_type": "markdown",
      "metadata": {
        "id": "view-in-github",
        "colab_type": "text"
      },
      "source": [
        "<a href=\"https://colab.research.google.com/github/briansrebrenik/santander_customer_prediction/blob/master/model.ipynb\" target=\"_parent\"><img src=\"https://colab.research.google.com/assets/colab-badge.svg\" alt=\"Open In Colab\"/></a>"
      ]
    },
    {
      "cell_type": "code",
      "metadata": {
        "id": "h_fRPszoNgzb",
        "colab_type": "code",
        "outputId": "1ce09c68-99af-449f-9f26-326448802ad5",
        "colab": {
          "base_uri": "https://localhost:8080/",
          "height": 122
        }
      },
      "source": [
        "# Run this cell to mount your Google Drive.\n",
        "from google.colab import drive\n",
        "drive.mount('/content/drive')"
      ],
      "execution_count": 0,
      "outputs": [
        {
          "output_type": "stream",
          "text": [
            "Go to this URL in a browser: https://accounts.google.com/o/oauth2/auth?client_id=947318989803-6bn6qk8qdgf4n4g3pfee6491hc0brc4i.apps.googleusercontent.com&redirect_uri=urn%3Aietf%3Awg%3Aoauth%3A2.0%3Aoob&scope=email%20https%3A%2F%2Fwww.googleapis.com%2Fauth%2Fdocs.test%20https%3A%2F%2Fwww.googleapis.com%2Fauth%2Fdrive%20https%3A%2F%2Fwww.googleapis.com%2Fauth%2Fdrive.photos.readonly%20https%3A%2F%2Fwww.googleapis.com%2Fauth%2Fpeopleapi.readonly&response_type=code\n",
            "\n",
            "Enter your authorization code:\n",
            "··········\n",
            "Mounted at /content/drive\n"
          ],
          "name": "stdout"
        }
      ]
    },
    {
      "cell_type": "code",
      "metadata": {
        "id": "mgBFKUR_RBWY",
        "colab_type": "code",
        "colab": {}
      },
      "source": [
        "import pandas as pd\n",
        "import numpy as np\n",
        "import seaborn as sns\n",
        "import lightgbm as lgbm\n",
        "from sklearn.model_selection import train_test_split, GridSearchCV\n",
        "from sklearn.decomposition import PCA\n",
        "from sklearn.feature_selection import SelectKBest\n",
        "from sklearn.metrics import classification_report, confusion_matrix, accuracy_score\n",
        "import matplotlib.pyplot as plt\n",
        "from mpl_toolkits import mplot3d\n",
        "%matplotlib inline\n",
        "plt.style.use('ggplot')"
      ],
      "execution_count": 0,
      "outputs": []
    },
    {
      "cell_type": "code",
      "metadata": {
        "id": "YUvh4z_lNl7k",
        "colab_type": "code",
        "colab": {}
      },
      "source": [
        "!mkdir -p ~/.kaggle\n",
        "!cp /content/drive/My\\ Drive/Colab\\ Notebooks/santander/kaggle.json ~/.kaggle/\n",
        "!chmod 600 ~/.kaggle/kaggle.json"
      ],
      "execution_count": 0,
      "outputs": []
    },
    {
      "cell_type": "code",
      "metadata": {
        "id": "J52VCsVbOLIW",
        "colab_type": "code",
        "outputId": "712b8e73-78d0-4347-c02f-e5c73f167425",
        "colab": {
          "base_uri": "https://localhost:8080/",
          "height": 170
        }
      },
      "source": [
        "!kaggle competitions download -c santander-customer-transaction-prediction -p /content"
      ],
      "execution_count": 0,
      "outputs": [
        {
          "output_type": "stream",
          "text": [
            "Downloading train.csv.zip to /content\n",
            " 84% 103M/122M [00:02<00:00, 35.7MB/s] \n",
            "100% 122M/122M [00:02<00:00, 51.6MB/s]\n",
            "Downloading sample_submission.csv.zip to /content\n",
            "  0% 0.00/463k [00:00<?, ?B/s]\n",
            "100% 463k/463k [00:00<00:00, 134MB/s]\n",
            "Downloading test.csv.zip to /content\n",
            "100% 122M/122M [00:01<00:00, 53.9MB/s]\n",
            "\n"
          ],
          "name": "stdout"
        }
      ]
    },
    {
      "cell_type": "code",
      "metadata": {
        "id": "jy-2yr52ObFE",
        "colab_type": "code",
        "colab": {}
      },
      "source": [
        "!rm -rf /content/sample_submission.csv.zip;"
      ],
      "execution_count": 0,
      "outputs": []
    },
    {
      "cell_type": "code",
      "metadata": {
        "id": "dhsz5Pl9QP-0",
        "colab_type": "code",
        "outputId": "6e6693a2-cfe8-480f-896a-75ad0fcfb32c",
        "colab": {
          "base_uri": "https://localhost:8080/",
          "height": 51
        }
      },
      "source": [
        "!unzip /content/test.csv.zip && rm -rf /content/test.csv.zip"
      ],
      "execution_count": 0,
      "outputs": [
        {
          "output_type": "stream",
          "text": [
            "Archive:  /content/test.csv.zip\n",
            "  inflating: test.csv                \n"
          ],
          "name": "stdout"
        }
      ]
    },
    {
      "cell_type": "code",
      "metadata": {
        "id": "aFdWB7a2QfBF",
        "colab_type": "code",
        "outputId": "d0bc7a42-7827-41db-ddbc-d919c7db6d35",
        "colab": {
          "base_uri": "https://localhost:8080/",
          "height": 51
        }
      },
      "source": [
        "!unzip /content/train.csv.zip && rm -rf /content/train.csv.zip"
      ],
      "execution_count": 0,
      "outputs": [
        {
          "output_type": "stream",
          "text": [
            "Archive:  /content/train.csv.zip\n",
            "  inflating: train.csv               \n"
          ],
          "name": "stdout"
        }
      ]
    },
    {
      "cell_type": "code",
      "metadata": {
        "id": "EP9VW4WtQj8V",
        "colab_type": "code",
        "colab": {}
      },
      "source": [
        "df = pd.read_csv('/content/train.csv')"
      ],
      "execution_count": 0,
      "outputs": []
    },
    {
      "cell_type": "code",
      "metadata": {
        "id": "Wu7Aqju8QpNr",
        "colab_type": "code",
        "outputId": "42da71d6-224d-45bc-e95f-c978c79546ae",
        "colab": {
          "base_uri": "https://localhost:8080/",
          "height": 102
        }
      },
      "source": [
        "df.info()"
      ],
      "execution_count": 0,
      "outputs": [
        {
          "output_type": "stream",
          "text": [
            "<class 'pandas.core.frame.DataFrame'>\n",
            "RangeIndex: 200000 entries, 0 to 199999\n",
            "Columns: 202 entries, ID_code to var_199\n",
            "dtypes: float64(200), int64(1), object(1)\n",
            "memory usage: 308.2+ MB\n"
          ],
          "name": "stdout"
        }
      ]
    },
    {
      "cell_type": "code",
      "metadata": {
        "id": "mYAzsM3NRPDH",
        "colab_type": "code",
        "outputId": "4097e1a2-aae3-4557-8fdf-6da98a2ae40a",
        "colab": {
          "base_uri": "https://localhost:8080/",
          "height": 253
        }
      },
      "source": [
        "df.head()"
      ],
      "execution_count": 0,
      "outputs": [
        {
          "output_type": "execute_result",
          "data": {
            "text/html": [
              "<div>\n",
              "<style scoped>\n",
              "    .dataframe tbody tr th:only-of-type {\n",
              "        vertical-align: middle;\n",
              "    }\n",
              "\n",
              "    .dataframe tbody tr th {\n",
              "        vertical-align: top;\n",
              "    }\n",
              "\n",
              "    .dataframe thead th {\n",
              "        text-align: right;\n",
              "    }\n",
              "</style>\n",
              "<table border=\"1\" class=\"dataframe\">\n",
              "  <thead>\n",
              "    <tr style=\"text-align: right;\">\n",
              "      <th></th>\n",
              "      <th>ID_code</th>\n",
              "      <th>target</th>\n",
              "      <th>var_0</th>\n",
              "      <th>var_1</th>\n",
              "      <th>var_2</th>\n",
              "      <th>var_3</th>\n",
              "      <th>var_4</th>\n",
              "      <th>var_5</th>\n",
              "      <th>var_6</th>\n",
              "      <th>var_7</th>\n",
              "      <th>var_8</th>\n",
              "      <th>var_9</th>\n",
              "      <th>var_10</th>\n",
              "      <th>var_11</th>\n",
              "      <th>var_12</th>\n",
              "      <th>var_13</th>\n",
              "      <th>var_14</th>\n",
              "      <th>var_15</th>\n",
              "      <th>var_16</th>\n",
              "      <th>var_17</th>\n",
              "      <th>var_18</th>\n",
              "      <th>var_19</th>\n",
              "      <th>var_20</th>\n",
              "      <th>var_21</th>\n",
              "      <th>var_22</th>\n",
              "      <th>var_23</th>\n",
              "      <th>var_24</th>\n",
              "      <th>var_25</th>\n",
              "      <th>var_26</th>\n",
              "      <th>var_27</th>\n",
              "      <th>var_28</th>\n",
              "      <th>var_29</th>\n",
              "      <th>var_30</th>\n",
              "      <th>var_31</th>\n",
              "      <th>var_32</th>\n",
              "      <th>var_33</th>\n",
              "      <th>var_34</th>\n",
              "      <th>var_35</th>\n",
              "      <th>var_36</th>\n",
              "      <th>var_37</th>\n",
              "      <th>...</th>\n",
              "      <th>var_160</th>\n",
              "      <th>var_161</th>\n",
              "      <th>var_162</th>\n",
              "      <th>var_163</th>\n",
              "      <th>var_164</th>\n",
              "      <th>var_165</th>\n",
              "      <th>var_166</th>\n",
              "      <th>var_167</th>\n",
              "      <th>var_168</th>\n",
              "      <th>var_169</th>\n",
              "      <th>var_170</th>\n",
              "      <th>var_171</th>\n",
              "      <th>var_172</th>\n",
              "      <th>var_173</th>\n",
              "      <th>var_174</th>\n",
              "      <th>var_175</th>\n",
              "      <th>var_176</th>\n",
              "      <th>var_177</th>\n",
              "      <th>var_178</th>\n",
              "      <th>var_179</th>\n",
              "      <th>var_180</th>\n",
              "      <th>var_181</th>\n",
              "      <th>var_182</th>\n",
              "      <th>var_183</th>\n",
              "      <th>var_184</th>\n",
              "      <th>var_185</th>\n",
              "      <th>var_186</th>\n",
              "      <th>var_187</th>\n",
              "      <th>var_188</th>\n",
              "      <th>var_189</th>\n",
              "      <th>var_190</th>\n",
              "      <th>var_191</th>\n",
              "      <th>var_192</th>\n",
              "      <th>var_193</th>\n",
              "      <th>var_194</th>\n",
              "      <th>var_195</th>\n",
              "      <th>var_196</th>\n",
              "      <th>var_197</th>\n",
              "      <th>var_198</th>\n",
              "      <th>var_199</th>\n",
              "    </tr>\n",
              "  </thead>\n",
              "  <tbody>\n",
              "    <tr>\n",
              "      <th>0</th>\n",
              "      <td>train_0</td>\n",
              "      <td>0</td>\n",
              "      <td>8.9255</td>\n",
              "      <td>-6.7863</td>\n",
              "      <td>11.9081</td>\n",
              "      <td>5.0930</td>\n",
              "      <td>11.4607</td>\n",
              "      <td>-9.2834</td>\n",
              "      <td>5.1187</td>\n",
              "      <td>18.6266</td>\n",
              "      <td>-4.9200</td>\n",
              "      <td>5.7470</td>\n",
              "      <td>2.9252</td>\n",
              "      <td>3.1821</td>\n",
              "      <td>14.0137</td>\n",
              "      <td>0.5745</td>\n",
              "      <td>8.7989</td>\n",
              "      <td>14.5691</td>\n",
              "      <td>5.7487</td>\n",
              "      <td>-7.2393</td>\n",
              "      <td>4.2840</td>\n",
              "      <td>30.7133</td>\n",
              "      <td>10.5350</td>\n",
              "      <td>16.2191</td>\n",
              "      <td>2.5791</td>\n",
              "      <td>2.4716</td>\n",
              "      <td>14.3831</td>\n",
              "      <td>13.4325</td>\n",
              "      <td>-5.1488</td>\n",
              "      <td>-0.4073</td>\n",
              "      <td>4.9306</td>\n",
              "      <td>5.9965</td>\n",
              "      <td>-0.3085</td>\n",
              "      <td>12.9041</td>\n",
              "      <td>-3.8766</td>\n",
              "      <td>16.8911</td>\n",
              "      <td>11.1920</td>\n",
              "      <td>10.5785</td>\n",
              "      <td>0.6764</td>\n",
              "      <td>7.8871</td>\n",
              "      <td>...</td>\n",
              "      <td>15.4576</td>\n",
              "      <td>5.3133</td>\n",
              "      <td>3.6159</td>\n",
              "      <td>5.0384</td>\n",
              "      <td>6.6760</td>\n",
              "      <td>12.6644</td>\n",
              "      <td>2.7004</td>\n",
              "      <td>-0.6975</td>\n",
              "      <td>9.5981</td>\n",
              "      <td>5.4879</td>\n",
              "      <td>-4.7645</td>\n",
              "      <td>-8.4254</td>\n",
              "      <td>20.8773</td>\n",
              "      <td>3.1531</td>\n",
              "      <td>18.5618</td>\n",
              "      <td>7.7423</td>\n",
              "      <td>-10.1245</td>\n",
              "      <td>13.7241</td>\n",
              "      <td>-3.5189</td>\n",
              "      <td>1.7202</td>\n",
              "      <td>-8.4051</td>\n",
              "      <td>9.0164</td>\n",
              "      <td>3.0657</td>\n",
              "      <td>14.3691</td>\n",
              "      <td>25.8398</td>\n",
              "      <td>5.8764</td>\n",
              "      <td>11.8411</td>\n",
              "      <td>-19.7159</td>\n",
              "      <td>17.5743</td>\n",
              "      <td>0.5857</td>\n",
              "      <td>4.4354</td>\n",
              "      <td>3.9642</td>\n",
              "      <td>3.1364</td>\n",
              "      <td>1.6910</td>\n",
              "      <td>18.5227</td>\n",
              "      <td>-2.3978</td>\n",
              "      <td>7.8784</td>\n",
              "      <td>8.5635</td>\n",
              "      <td>12.7803</td>\n",
              "      <td>-1.0914</td>\n",
              "    </tr>\n",
              "    <tr>\n",
              "      <th>1</th>\n",
              "      <td>train_1</td>\n",
              "      <td>0</td>\n",
              "      <td>11.5006</td>\n",
              "      <td>-4.1473</td>\n",
              "      <td>13.8588</td>\n",
              "      <td>5.3890</td>\n",
              "      <td>12.3622</td>\n",
              "      <td>7.0433</td>\n",
              "      <td>5.6208</td>\n",
              "      <td>16.5338</td>\n",
              "      <td>3.1468</td>\n",
              "      <td>8.0851</td>\n",
              "      <td>-0.4032</td>\n",
              "      <td>8.0585</td>\n",
              "      <td>14.0239</td>\n",
              "      <td>8.4135</td>\n",
              "      <td>5.4345</td>\n",
              "      <td>13.7003</td>\n",
              "      <td>13.8275</td>\n",
              "      <td>-15.5849</td>\n",
              "      <td>7.8000</td>\n",
              "      <td>28.5708</td>\n",
              "      <td>3.4287</td>\n",
              "      <td>2.7407</td>\n",
              "      <td>8.5524</td>\n",
              "      <td>3.3716</td>\n",
              "      <td>6.9779</td>\n",
              "      <td>13.8910</td>\n",
              "      <td>-11.7684</td>\n",
              "      <td>-2.5586</td>\n",
              "      <td>5.0464</td>\n",
              "      <td>0.5481</td>\n",
              "      <td>-9.2987</td>\n",
              "      <td>7.8755</td>\n",
              "      <td>1.2859</td>\n",
              "      <td>19.3710</td>\n",
              "      <td>11.3702</td>\n",
              "      <td>0.7399</td>\n",
              "      <td>2.7995</td>\n",
              "      <td>5.8434</td>\n",
              "      <td>...</td>\n",
              "      <td>29.4846</td>\n",
              "      <td>5.8683</td>\n",
              "      <td>3.8208</td>\n",
              "      <td>15.8348</td>\n",
              "      <td>-5.0121</td>\n",
              "      <td>15.1345</td>\n",
              "      <td>3.2003</td>\n",
              "      <td>9.3192</td>\n",
              "      <td>3.8821</td>\n",
              "      <td>5.7999</td>\n",
              "      <td>5.5378</td>\n",
              "      <td>5.0988</td>\n",
              "      <td>22.0330</td>\n",
              "      <td>5.5134</td>\n",
              "      <td>30.2645</td>\n",
              "      <td>10.4968</td>\n",
              "      <td>-7.2352</td>\n",
              "      <td>16.5721</td>\n",
              "      <td>-7.3477</td>\n",
              "      <td>11.0752</td>\n",
              "      <td>-5.5937</td>\n",
              "      <td>9.4878</td>\n",
              "      <td>-14.9100</td>\n",
              "      <td>9.4245</td>\n",
              "      <td>22.5441</td>\n",
              "      <td>-4.8622</td>\n",
              "      <td>7.6543</td>\n",
              "      <td>-15.9319</td>\n",
              "      <td>13.3175</td>\n",
              "      <td>-0.3566</td>\n",
              "      <td>7.6421</td>\n",
              "      <td>7.7214</td>\n",
              "      <td>2.5837</td>\n",
              "      <td>10.9516</td>\n",
              "      <td>15.4305</td>\n",
              "      <td>2.0339</td>\n",
              "      <td>8.1267</td>\n",
              "      <td>8.7889</td>\n",
              "      <td>18.3560</td>\n",
              "      <td>1.9518</td>\n",
              "    </tr>\n",
              "    <tr>\n",
              "      <th>2</th>\n",
              "      <td>train_2</td>\n",
              "      <td>0</td>\n",
              "      <td>8.6093</td>\n",
              "      <td>-2.7457</td>\n",
              "      <td>12.0805</td>\n",
              "      <td>7.8928</td>\n",
              "      <td>10.5825</td>\n",
              "      <td>-9.0837</td>\n",
              "      <td>6.9427</td>\n",
              "      <td>14.6155</td>\n",
              "      <td>-4.9193</td>\n",
              "      <td>5.9525</td>\n",
              "      <td>-0.3249</td>\n",
              "      <td>-11.2648</td>\n",
              "      <td>14.1929</td>\n",
              "      <td>7.3124</td>\n",
              "      <td>7.5244</td>\n",
              "      <td>14.6472</td>\n",
              "      <td>7.6782</td>\n",
              "      <td>-1.7395</td>\n",
              "      <td>4.7011</td>\n",
              "      <td>20.4775</td>\n",
              "      <td>17.7559</td>\n",
              "      <td>18.1377</td>\n",
              "      <td>1.2145</td>\n",
              "      <td>3.5137</td>\n",
              "      <td>5.6777</td>\n",
              "      <td>13.2177</td>\n",
              "      <td>-7.9940</td>\n",
              "      <td>-2.9029</td>\n",
              "      <td>5.8463</td>\n",
              "      <td>6.1439</td>\n",
              "      <td>-11.1025</td>\n",
              "      <td>12.4858</td>\n",
              "      <td>-2.2871</td>\n",
              "      <td>19.0422</td>\n",
              "      <td>11.0449</td>\n",
              "      <td>4.1087</td>\n",
              "      <td>4.6974</td>\n",
              "      <td>6.9346</td>\n",
              "      <td>...</td>\n",
              "      <td>13.2070</td>\n",
              "      <td>5.8442</td>\n",
              "      <td>4.7086</td>\n",
              "      <td>5.7141</td>\n",
              "      <td>-1.0410</td>\n",
              "      <td>20.5092</td>\n",
              "      <td>3.2790</td>\n",
              "      <td>-5.5952</td>\n",
              "      <td>7.3176</td>\n",
              "      <td>5.7690</td>\n",
              "      <td>-7.0927</td>\n",
              "      <td>-3.9116</td>\n",
              "      <td>7.2569</td>\n",
              "      <td>-5.8234</td>\n",
              "      <td>25.6820</td>\n",
              "      <td>10.9202</td>\n",
              "      <td>-0.3104</td>\n",
              "      <td>8.8438</td>\n",
              "      <td>-9.7009</td>\n",
              "      <td>2.4013</td>\n",
              "      <td>-4.2935</td>\n",
              "      <td>9.3908</td>\n",
              "      <td>-13.2648</td>\n",
              "      <td>3.1545</td>\n",
              "      <td>23.0866</td>\n",
              "      <td>-5.3000</td>\n",
              "      <td>5.3745</td>\n",
              "      <td>-6.2660</td>\n",
              "      <td>10.1934</td>\n",
              "      <td>-0.8417</td>\n",
              "      <td>2.9057</td>\n",
              "      <td>9.7905</td>\n",
              "      <td>1.6704</td>\n",
              "      <td>1.6858</td>\n",
              "      <td>21.6042</td>\n",
              "      <td>3.1417</td>\n",
              "      <td>-6.5213</td>\n",
              "      <td>8.2675</td>\n",
              "      <td>14.7222</td>\n",
              "      <td>0.3965</td>\n",
              "    </tr>\n",
              "    <tr>\n",
              "      <th>3</th>\n",
              "      <td>train_3</td>\n",
              "      <td>0</td>\n",
              "      <td>11.0604</td>\n",
              "      <td>-2.1518</td>\n",
              "      <td>8.9522</td>\n",
              "      <td>7.1957</td>\n",
              "      <td>12.5846</td>\n",
              "      <td>-1.8361</td>\n",
              "      <td>5.8428</td>\n",
              "      <td>14.9250</td>\n",
              "      <td>-5.8609</td>\n",
              "      <td>8.2450</td>\n",
              "      <td>2.3061</td>\n",
              "      <td>2.8102</td>\n",
              "      <td>13.8463</td>\n",
              "      <td>11.9704</td>\n",
              "      <td>6.4569</td>\n",
              "      <td>14.8372</td>\n",
              "      <td>10.7430</td>\n",
              "      <td>-0.4299</td>\n",
              "      <td>15.9426</td>\n",
              "      <td>13.7257</td>\n",
              "      <td>20.3010</td>\n",
              "      <td>12.5579</td>\n",
              "      <td>6.8202</td>\n",
              "      <td>2.7229</td>\n",
              "      <td>12.1354</td>\n",
              "      <td>13.7367</td>\n",
              "      <td>0.8135</td>\n",
              "      <td>-0.9059</td>\n",
              "      <td>5.9070</td>\n",
              "      <td>2.8407</td>\n",
              "      <td>-15.2398</td>\n",
              "      <td>10.4407</td>\n",
              "      <td>-2.5731</td>\n",
              "      <td>6.1796</td>\n",
              "      <td>10.6093</td>\n",
              "      <td>-5.9158</td>\n",
              "      <td>8.1723</td>\n",
              "      <td>2.8521</td>\n",
              "      <td>...</td>\n",
              "      <td>31.8833</td>\n",
              "      <td>5.9684</td>\n",
              "      <td>7.2084</td>\n",
              "      <td>3.8899</td>\n",
              "      <td>-11.0882</td>\n",
              "      <td>17.2502</td>\n",
              "      <td>2.5881</td>\n",
              "      <td>-2.7018</td>\n",
              "      <td>0.5641</td>\n",
              "      <td>5.3430</td>\n",
              "      <td>-7.1541</td>\n",
              "      <td>-6.1920</td>\n",
              "      <td>18.2366</td>\n",
              "      <td>11.7134</td>\n",
              "      <td>14.7483</td>\n",
              "      <td>8.1013</td>\n",
              "      <td>11.8771</td>\n",
              "      <td>13.9552</td>\n",
              "      <td>-10.4701</td>\n",
              "      <td>5.6961</td>\n",
              "      <td>-3.7546</td>\n",
              "      <td>8.4117</td>\n",
              "      <td>1.8986</td>\n",
              "      <td>7.2601</td>\n",
              "      <td>-0.4639</td>\n",
              "      <td>-0.0498</td>\n",
              "      <td>7.9336</td>\n",
              "      <td>-12.8279</td>\n",
              "      <td>12.4124</td>\n",
              "      <td>1.8489</td>\n",
              "      <td>4.4666</td>\n",
              "      <td>4.7433</td>\n",
              "      <td>0.7178</td>\n",
              "      <td>1.4214</td>\n",
              "      <td>23.0347</td>\n",
              "      <td>-1.2706</td>\n",
              "      <td>-2.9275</td>\n",
              "      <td>10.2922</td>\n",
              "      <td>17.9697</td>\n",
              "      <td>-8.9996</td>\n",
              "    </tr>\n",
              "    <tr>\n",
              "      <th>4</th>\n",
              "      <td>train_4</td>\n",
              "      <td>0</td>\n",
              "      <td>9.8369</td>\n",
              "      <td>-1.4834</td>\n",
              "      <td>12.8746</td>\n",
              "      <td>6.6375</td>\n",
              "      <td>12.2772</td>\n",
              "      <td>2.4486</td>\n",
              "      <td>5.9405</td>\n",
              "      <td>19.2514</td>\n",
              "      <td>6.2654</td>\n",
              "      <td>7.6784</td>\n",
              "      <td>-9.4458</td>\n",
              "      <td>-12.1419</td>\n",
              "      <td>13.8481</td>\n",
              "      <td>7.8895</td>\n",
              "      <td>7.7894</td>\n",
              "      <td>15.0553</td>\n",
              "      <td>8.4871</td>\n",
              "      <td>-3.0680</td>\n",
              "      <td>6.5263</td>\n",
              "      <td>11.3152</td>\n",
              "      <td>21.4246</td>\n",
              "      <td>18.9608</td>\n",
              "      <td>10.1102</td>\n",
              "      <td>2.7142</td>\n",
              "      <td>14.2080</td>\n",
              "      <td>13.5433</td>\n",
              "      <td>3.1736</td>\n",
              "      <td>-3.3423</td>\n",
              "      <td>5.9015</td>\n",
              "      <td>7.9352</td>\n",
              "      <td>-3.1582</td>\n",
              "      <td>9.4668</td>\n",
              "      <td>-0.0083</td>\n",
              "      <td>19.3239</td>\n",
              "      <td>12.4057</td>\n",
              "      <td>0.6329</td>\n",
              "      <td>2.7922</td>\n",
              "      <td>5.8184</td>\n",
              "      <td>...</td>\n",
              "      <td>33.5107</td>\n",
              "      <td>5.6953</td>\n",
              "      <td>5.4663</td>\n",
              "      <td>18.2201</td>\n",
              "      <td>6.5769</td>\n",
              "      <td>21.2607</td>\n",
              "      <td>3.2304</td>\n",
              "      <td>-1.7759</td>\n",
              "      <td>3.1283</td>\n",
              "      <td>5.5518</td>\n",
              "      <td>1.4493</td>\n",
              "      <td>-2.6627</td>\n",
              "      <td>19.8056</td>\n",
              "      <td>2.3705</td>\n",
              "      <td>18.4685</td>\n",
              "      <td>16.3309</td>\n",
              "      <td>-3.3456</td>\n",
              "      <td>13.5261</td>\n",
              "      <td>1.7189</td>\n",
              "      <td>5.1743</td>\n",
              "      <td>-7.6938</td>\n",
              "      <td>9.7685</td>\n",
              "      <td>4.8910</td>\n",
              "      <td>12.2198</td>\n",
              "      <td>11.8503</td>\n",
              "      <td>-7.8931</td>\n",
              "      <td>6.4209</td>\n",
              "      <td>5.9270</td>\n",
              "      <td>16.0201</td>\n",
              "      <td>-0.2829</td>\n",
              "      <td>-1.4905</td>\n",
              "      <td>9.5214</td>\n",
              "      <td>-0.1508</td>\n",
              "      <td>9.1942</td>\n",
              "      <td>13.2876</td>\n",
              "      <td>-1.5121</td>\n",
              "      <td>3.9267</td>\n",
              "      <td>9.5031</td>\n",
              "      <td>17.9974</td>\n",
              "      <td>-8.8104</td>\n",
              "    </tr>\n",
              "  </tbody>\n",
              "</table>\n",
              "<p>5 rows × 202 columns</p>\n",
              "</div>"
            ],
            "text/plain": [
              "   ID_code  target    var_0   var_1  ...  var_196  var_197  var_198  var_199\n",
              "0  train_0       0   8.9255 -6.7863  ...   7.8784   8.5635  12.7803  -1.0914\n",
              "1  train_1       0  11.5006 -4.1473  ...   8.1267   8.7889  18.3560   1.9518\n",
              "2  train_2       0   8.6093 -2.7457  ...  -6.5213   8.2675  14.7222   0.3965\n",
              "3  train_3       0  11.0604 -2.1518  ...  -2.9275  10.2922  17.9697  -8.9996\n",
              "4  train_4       0   9.8369 -1.4834  ...   3.9267   9.5031  17.9974  -8.8104\n",
              "\n",
              "[5 rows x 202 columns]"
            ]
          },
          "metadata": {
            "tags": []
          },
          "execution_count": 4
        }
      ]
    },
    {
      "cell_type": "code",
      "metadata": {
        "id": "H6td0-LbRQzu",
        "colab_type": "code",
        "outputId": "3cc5cbc0-5d73-4fe5-e31d-c00d1fbe8085",
        "colab": {
          "base_uri": "https://localhost:8080/",
          "height": 34
        }
      },
      "source": [
        "df.target.unique()"
      ],
      "execution_count": 0,
      "outputs": [
        {
          "output_type": "execute_result",
          "data": {
            "text/plain": [
              "array([0, 1])"
            ]
          },
          "metadata": {
            "tags": []
          },
          "execution_count": 5
        }
      ]
    },
    {
      "cell_type": "code",
      "metadata": {
        "id": "8K_U1GrZTOhQ",
        "colab_type": "code",
        "colab": {}
      },
      "source": [
        "pca = PCA(n_components=.95)"
      ],
      "execution_count": 0,
      "outputs": []
    },
    {
      "cell_type": "code",
      "metadata": {
        "id": "Vwn-xLJ1TmRr",
        "colab_type": "code",
        "colab": {}
      },
      "source": [
        "df_pca = pca.fit_transform(df.iloc[:, 2:], y=df.iloc[:, 1])"
      ],
      "execution_count": 0,
      "outputs": []
    },
    {
      "cell_type": "code",
      "metadata": {
        "id": "OzIIqR04TtN4",
        "colab_type": "code",
        "outputId": "ce7ef1de-5147-477e-c901-06415ae43065",
        "colab": {
          "base_uri": "https://localhost:8080/",
          "height": 34
        }
      },
      "source": [
        "print(f'Number of components with .95 variance: {len(df_pca[0])}')"
      ],
      "execution_count": 0,
      "outputs": [
        {
          "output_type": "stream",
          "text": [
            "Number of components with .95 variance: 111\n"
          ],
          "name": "stdout"
        }
      ]
    },
    {
      "cell_type": "code",
      "metadata": {
        "id": "M_seS_AoW0Tf",
        "colab_type": "code",
        "colab": {}
      },
      "source": [
        "selection = SelectKBest(k=10)"
      ],
      "execution_count": 0,
      "outputs": []
    },
    {
      "cell_type": "code",
      "metadata": {
        "id": "NTXmX-buXAeQ",
        "colab_type": "code",
        "colab": {}
      },
      "source": [
        "df_kbest = selection.fit_transform(df.iloc[:, 2:], y=df.iloc[:, 1])"
      ],
      "execution_count": 0,
      "outputs": []
    },
    {
      "cell_type": "code",
      "metadata": {
        "id": "SPkK_TzCXArM",
        "colab_type": "code",
        "outputId": "c093139c-defd-46ef-8004-cf34b7f7233a",
        "colab": {
          "base_uri": "https://localhost:8080/",
          "height": 136
        }
      },
      "source": [
        "df_kbest"
      ],
      "execution_count": 0,
      "outputs": [
        {
          "output_type": "execute_result",
          "data": {
            "text/plain": [
              "array([[  5.1187,  14.0137,  -5.1488, ...,  15.6599,  11.5659,  18.5618],\n",
              "       [  5.6208,  14.0239, -11.7684, ...,  16.1622,   8.9231,  30.2645],\n",
              "       [  6.9427,  14.1929,  -7.994 , ...,   8.6674,  11.4934,  25.682 ],\n",
              "       ...,\n",
              "       [  4.5555,  13.8775,   4.9473, ...,   1.0527,  12.2434,  32.0032],\n",
              "       [  6.0479,  14.211 ,  -3.3859, ...,   2.2357,  10.9535,   8.8704],\n",
              "       [  5.2839,  14.2486,  -7.7771, ...,   1.0662,  12.3484,  25.9094]])"
            ]
          },
          "metadata": {
            "tags": []
          },
          "execution_count": 11
        }
      ]
    },
    {
      "cell_type": "code",
      "metadata": {
        "id": "G7LPmtDuUZ8K",
        "colab_type": "code",
        "outputId": "1320a88a-600a-4f20-f601-9b29a087107b",
        "colab": {
          "base_uri": "https://localhost:8080/",
          "height": 575
        }
      },
      "source": [
        "selection3 = SelectKBest(k=3)\n",
        "df_kbest_3 = selection3.fit_transform(df.iloc[:, 2:], y=df.iloc[:, 1])\n",
        "plt.figure(figsize=(10,10))\n",
        "ax = plt.axes(projection='3d')\n",
        "xdata = [x[0] for x in df_kbest_3[:500]]\n",
        "ydata = [x[1] for x in df_kbest_3[:500]]\n",
        "zdata = [x[2] for x in df_kbest_3[:500]]\n",
        "\n",
        "colors = list(df[:500].target)\n",
        "ax.scatter3D(xdata, ydata, zdata, c=colors, cmap='Blues');"
      ],
      "execution_count": 0,
      "outputs": [
        {
          "output_type": "display_data",
          "data": {
            "image/png": "[encoded data removed]",
            "text/plain": [
              "<Figure size 720x720 with 1 Axes>"
            ]
          },
          "metadata": {
            "tags": []
          }
        }
      ]
    },
    {
      "cell_type": "code",
      "metadata": {
        "id": "KyA9cWNdZVCT",
        "colab_type": "code",
        "colab": {}
      },
      "source": [
        "combined_features = []\n",
        "for x, y in zip(df_pca, df_kbest):\n",
        "  combined_features.append(np.concatenate((x, y)))\n",
        "combined_features = pd.DataFrame(combined_features)"
      ],
      "execution_count": 0,
      "outputs": []
    },
    {
      "cell_type": "code",
      "metadata": {
        "colab_type": "code",
        "outputId": "38c70b0b-8461-4999-b1f3-a1cf327841ec",
        "id": "h5hKXxQKan9m",
        "colab": {
          "base_uri": "https://localhost:8080/",
          "height": 253
        }
      },
      "source": [
        "combined_features.head()"
      ],
      "execution_count": 0,
      "outputs": [
        {
          "output_type": "execute_result",
          "data": {
            "text/html": [
              "<div>\n",
              "<style scoped>\n",
              "    .dataframe tbody tr th:only-of-type {\n",
              "        vertical-align: middle;\n",
              "    }\n",
              "\n",
              "    .dataframe tbody tr th {\n",
              "        vertical-align: top;\n",
              "    }\n",
              "\n",
              "    .dataframe thead th {\n",
              "        text-align: right;\n",
              "    }\n",
              "</style>\n",
              "<table border=\"1\" class=\"dataframe\">\n",
              "  <thead>\n",
              "    <tr style=\"text-align: right;\">\n",
              "      <th></th>\n",
              "      <th>0</th>\n",
              "      <th>1</th>\n",
              "      <th>2</th>\n",
              "      <th>3</th>\n",
              "      <th>4</th>\n",
              "      <th>5</th>\n",
              "      <th>6</th>\n",
              "      <th>7</th>\n",
              "      <th>8</th>\n",
              "      <th>9</th>\n",
              "      <th>10</th>\n",
              "      <th>11</th>\n",
              "      <th>12</th>\n",
              "      <th>13</th>\n",
              "      <th>14</th>\n",
              "      <th>15</th>\n",
              "      <th>16</th>\n",
              "      <th>17</th>\n",
              "      <th>18</th>\n",
              "      <th>19</th>\n",
              "      <th>20</th>\n",
              "      <th>21</th>\n",
              "      <th>22</th>\n",
              "      <th>23</th>\n",
              "      <th>24</th>\n",
              "      <th>25</th>\n",
              "      <th>26</th>\n",
              "      <th>27</th>\n",
              "      <th>28</th>\n",
              "      <th>29</th>\n",
              "      <th>30</th>\n",
              "      <th>31</th>\n",
              "      <th>32</th>\n",
              "      <th>33</th>\n",
              "      <th>34</th>\n",
              "      <th>35</th>\n",
              "      <th>36</th>\n",
              "      <th>37</th>\n",
              "      <th>38</th>\n",
              "      <th>39</th>\n",
              "      <th>...</th>\n",
              "      <th>81</th>\n",
              "      <th>82</th>\n",
              "      <th>83</th>\n",
              "      <th>84</th>\n",
              "      <th>85</th>\n",
              "      <th>86</th>\n",
              "      <th>87</th>\n",
              "      <th>88</th>\n",
              "      <th>89</th>\n",
              "      <th>90</th>\n",
              "      <th>91</th>\n",
              "      <th>92</th>\n",
              "      <th>93</th>\n",
              "      <th>94</th>\n",
              "      <th>95</th>\n",
              "      <th>96</th>\n",
              "      <th>97</th>\n",
              "      <th>98</th>\n",
              "      <th>99</th>\n",
              "      <th>100</th>\n",
              "      <th>101</th>\n",
              "      <th>102</th>\n",
              "      <th>103</th>\n",
              "      <th>104</th>\n",
              "      <th>105</th>\n",
              "      <th>106</th>\n",
              "      <th>107</th>\n",
              "      <th>108</th>\n",
              "      <th>109</th>\n",
              "      <th>110</th>\n",
              "      <th>111</th>\n",
              "      <th>112</th>\n",
              "      <th>113</th>\n",
              "      <th>114</th>\n",
              "      <th>115</th>\n",
              "      <th>116</th>\n",
              "      <th>117</th>\n",
              "      <th>118</th>\n",
              "      <th>119</th>\n",
              "      <th>120</th>\n",
              "    </tr>\n",
              "  </thead>\n",
              "  <tbody>\n",
              "    <tr>\n",
              "      <th>0</th>\n",
              "      <td>-5.606469</td>\n",
              "      <td>-23.554409</td>\n",
              "      <td>-1.899704</td>\n",
              "      <td>5.221474</td>\n",
              "      <td>2.466672</td>\n",
              "      <td>-8.622253</td>\n",
              "      <td>2.713465</td>\n",
              "      <td>-15.071818</td>\n",
              "      <td>11.416698</td>\n",
              "      <td>1.583202</td>\n",
              "      <td>-8.810643</td>\n",
              "      <td>0.802975</td>\n",
              "      <td>1.442125</td>\n",
              "      <td>12.480842</td>\n",
              "      <td>-6.771399</td>\n",
              "      <td>-15.693868</td>\n",
              "      <td>-14.050751</td>\n",
              "      <td>2.355879</td>\n",
              "      <td>-13.959337</td>\n",
              "      <td>8.161704</td>\n",
              "      <td>0.768902</td>\n",
              "      <td>1.539386</td>\n",
              "      <td>-3.140876</td>\n",
              "      <td>-3.929022</td>\n",
              "      <td>-5.044164</td>\n",
              "      <td>-2.780605</td>\n",
              "      <td>2.671855</td>\n",
              "      <td>-3.874478</td>\n",
              "      <td>0.284329</td>\n",
              "      <td>14.927178</td>\n",
              "      <td>13.744851</td>\n",
              "      <td>-14.195228</td>\n",
              "      <td>0.764528</td>\n",
              "      <td>-4.592730</td>\n",
              "      <td>6.750446</td>\n",
              "      <td>-15.644447</td>\n",
              "      <td>-0.952110</td>\n",
              "      <td>-4.722455</td>\n",
              "      <td>2.396560</td>\n",
              "      <td>7.910377</td>\n",
              "      <td>...</td>\n",
              "      <td>0.085197</td>\n",
              "      <td>6.217201</td>\n",
              "      <td>8.837776</td>\n",
              "      <td>-5.489209</td>\n",
              "      <td>5.249674</td>\n",
              "      <td>1.682748</td>\n",
              "      <td>-0.783936</td>\n",
              "      <td>-5.109001</td>\n",
              "      <td>-3.357920</td>\n",
              "      <td>-4.690509</td>\n",
              "      <td>3.031281</td>\n",
              "      <td>-1.777108</td>\n",
              "      <td>-2.129503</td>\n",
              "      <td>-2.317407</td>\n",
              "      <td>5.582199</td>\n",
              "      <td>1.919842</td>\n",
              "      <td>-0.579323</td>\n",
              "      <td>1.648996</td>\n",
              "      <td>3.402656</td>\n",
              "      <td>3.264433</td>\n",
              "      <td>2.746974</td>\n",
              "      <td>-4.206694</td>\n",
              "      <td>-5.994232</td>\n",
              "      <td>4.141584</td>\n",
              "      <td>-7.421645</td>\n",
              "      <td>2.986590</td>\n",
              "      <td>5.354213</td>\n",
              "      <td>5.415633</td>\n",
              "      <td>1.981108</td>\n",
              "      <td>5.444945</td>\n",
              "      <td>5.1187</td>\n",
              "      <td>14.0137</td>\n",
              "      <td>-5.1488</td>\n",
              "      <td>5.1736</td>\n",
              "      <td>-2.3440</td>\n",
              "      <td>13.8372</td>\n",
              "      <td>2.0323</td>\n",
              "      <td>15.6599</td>\n",
              "      <td>11.5659</td>\n",
              "      <td>18.5618</td>\n",
              "    </tr>\n",
              "    <tr>\n",
              "      <th>1</th>\n",
              "      <td>34.878028</td>\n",
              "      <td>11.469291</td>\n",
              "      <td>-3.759774</td>\n",
              "      <td>-19.274506</td>\n",
              "      <td>-8.543841</td>\n",
              "      <td>6.984967</td>\n",
              "      <td>-15.539528</td>\n",
              "      <td>-2.989574</td>\n",
              "      <td>8.116709</td>\n",
              "      <td>19.065200</td>\n",
              "      <td>4.791262</td>\n",
              "      <td>-11.514892</td>\n",
              "      <td>-7.972040</td>\n",
              "      <td>-16.213782</td>\n",
              "      <td>0.054853</td>\n",
              "      <td>-8.579273</td>\n",
              "      <td>8.301577</td>\n",
              "      <td>-14.261278</td>\n",
              "      <td>-0.664824</td>\n",
              "      <td>7.534936</td>\n",
              "      <td>2.165688</td>\n",
              "      <td>10.269147</td>\n",
              "      <td>-8.707106</td>\n",
              "      <td>10.308896</td>\n",
              "      <td>-3.680804</td>\n",
              "      <td>-7.131159</td>\n",
              "      <td>-10.309095</td>\n",
              "      <td>3.276040</td>\n",
              "      <td>-14.134649</td>\n",
              "      <td>1.298947</td>\n",
              "      <td>13.193734</td>\n",
              "      <td>-1.495604</td>\n",
              "      <td>3.387545</td>\n",
              "      <td>8.695409</td>\n",
              "      <td>-10.825973</td>\n",
              "      <td>-1.899904</td>\n",
              "      <td>-6.481520</td>\n",
              "      <td>-17.123284</td>\n",
              "      <td>-17.034735</td>\n",
              "      <td>15.600825</td>\n",
              "      <td>...</td>\n",
              "      <td>3.331044</td>\n",
              "      <td>1.309392</td>\n",
              "      <td>-1.420334</td>\n",
              "      <td>6.379035</td>\n",
              "      <td>-3.806369</td>\n",
              "      <td>4.778627</td>\n",
              "      <td>1.098653</td>\n",
              "      <td>0.457219</td>\n",
              "      <td>5.081466</td>\n",
              "      <td>-5.145828</td>\n",
              "      <td>0.977441</td>\n",
              "      <td>1.555768</td>\n",
              "      <td>-1.873848</td>\n",
              "      <td>-4.411593</td>\n",
              "      <td>1.637559</td>\n",
              "      <td>-6.995692</td>\n",
              "      <td>-3.052852</td>\n",
              "      <td>6.685872</td>\n",
              "      <td>2.244896</td>\n",
              "      <td>-0.913424</td>\n",
              "      <td>-5.650777</td>\n",
              "      <td>-4.014546</td>\n",
              "      <td>-1.353984</td>\n",
              "      <td>4.540118</td>\n",
              "      <td>0.194921</td>\n",
              "      <td>-4.965494</td>\n",
              "      <td>-8.237374</td>\n",
              "      <td>-2.927568</td>\n",
              "      <td>-0.479950</td>\n",
              "      <td>-2.754613</td>\n",
              "      <td>5.6208</td>\n",
              "      <td>14.0239</td>\n",
              "      <td>-11.7684</td>\n",
              "      <td>6.6885</td>\n",
              "      <td>3.2709</td>\n",
              "      <td>18.1782</td>\n",
              "      <td>6.6203</td>\n",
              "      <td>16.1622</td>\n",
              "      <td>8.9231</td>\n",
              "      <td>30.2645</td>\n",
              "    </tr>\n",
              "    <tr>\n",
              "      <th>2</th>\n",
              "      <td>-4.790239</td>\n",
              "      <td>-0.334213</td>\n",
              "      <td>11.359318</td>\n",
              "      <td>8.533317</td>\n",
              "      <td>1.328571</td>\n",
              "      <td>-3.218286</td>\n",
              "      <td>22.019436</td>\n",
              "      <td>-1.662104</td>\n",
              "      <td>-4.055670</td>\n",
              "      <td>6.217987</td>\n",
              "      <td>-11.664497</td>\n",
              "      <td>-5.420168</td>\n",
              "      <td>-5.838909</td>\n",
              "      <td>-1.626875</td>\n",
              "      <td>4.860404</td>\n",
              "      <td>-10.977207</td>\n",
              "      <td>-4.695433</td>\n",
              "      <td>-14.018923</td>\n",
              "      <td>3.590142</td>\n",
              "      <td>10.547186</td>\n",
              "      <td>-13.102323</td>\n",
              "      <td>-7.174149</td>\n",
              "      <td>-5.749924</td>\n",
              "      <td>7.936096</td>\n",
              "      <td>-16.884945</td>\n",
              "      <td>9.353255</td>\n",
              "      <td>11.102433</td>\n",
              "      <td>5.877750</td>\n",
              "      <td>-0.877533</td>\n",
              "      <td>6.708694</td>\n",
              "      <td>7.056977</td>\n",
              "      <td>3.989550</td>\n",
              "      <td>-2.724309</td>\n",
              "      <td>6.890104</td>\n",
              "      <td>7.699388</td>\n",
              "      <td>-18.054204</td>\n",
              "      <td>5.966189</td>\n",
              "      <td>-6.443340</td>\n",
              "      <td>-8.022720</td>\n",
              "      <td>1.365719</td>\n",
              "      <td>...</td>\n",
              "      <td>-1.624338</td>\n",
              "      <td>-5.492391</td>\n",
              "      <td>6.981493</td>\n",
              "      <td>-6.291619</td>\n",
              "      <td>2.383189</td>\n",
              "      <td>4.403785</td>\n",
              "      <td>-1.435345</td>\n",
              "      <td>1.058824</td>\n",
              "      <td>-0.956737</td>\n",
              "      <td>1.599338</td>\n",
              "      <td>0.496149</td>\n",
              "      <td>0.536455</td>\n",
              "      <td>-1.872459</td>\n",
              "      <td>-0.141536</td>\n",
              "      <td>1.228398</td>\n",
              "      <td>1.816755</td>\n",
              "      <td>0.325430</td>\n",
              "      <td>-2.648416</td>\n",
              "      <td>7.804204</td>\n",
              "      <td>-2.135583</td>\n",
              "      <td>1.365405</td>\n",
              "      <td>0.785875</td>\n",
              "      <td>-2.829843</td>\n",
              "      <td>2.919709</td>\n",
              "      <td>3.488584</td>\n",
              "      <td>-4.364233</td>\n",
              "      <td>1.333798</td>\n",
              "      <td>1.199043</td>\n",
              "      <td>-2.043036</td>\n",
              "      <td>4.956015</td>\n",
              "      <td>6.9427</td>\n",
              "      <td>14.1929</td>\n",
              "      <td>-7.9940</td>\n",
              "      <td>6.4059</td>\n",
              "      <td>4.5048</td>\n",
              "      <td>15.7811</td>\n",
              "      <td>3.2304</td>\n",
              "      <td>8.6674</td>\n",
              "      <td>11.4934</td>\n",
              "      <td>25.6820</td>\n",
              "    </tr>\n",
              "    <tr>\n",
              "      <th>3</th>\n",
              "      <td>11.875370</td>\n",
              "      <td>14.050808</td>\n",
              "      <td>24.017588</td>\n",
              "      <td>-4.419429</td>\n",
              "      <td>0.372725</td>\n",
              "      <td>5.805502</td>\n",
              "      <td>20.132591</td>\n",
              "      <td>12.235285</td>\n",
              "      <td>-1.442250</td>\n",
              "      <td>-14.343129</td>\n",
              "      <td>7.999552</td>\n",
              "      <td>22.746324</td>\n",
              "      <td>4.942466</td>\n",
              "      <td>3.645703</td>\n",
              "      <td>5.698504</td>\n",
              "      <td>14.461849</td>\n",
              "      <td>10.923017</td>\n",
              "      <td>1.134816</td>\n",
              "      <td>-7.416851</td>\n",
              "      <td>-10.165267</td>\n",
              "      <td>-3.507473</td>\n",
              "      <td>-5.141825</td>\n",
              "      <td>-7.559422</td>\n",
              "      <td>-4.617944</td>\n",
              "      <td>-5.540126</td>\n",
              "      <td>6.267007</td>\n",
              "      <td>-7.895418</td>\n",
              "      <td>-1.799803</td>\n",
              "      <td>-3.818428</td>\n",
              "      <td>-3.851988</td>\n",
              "      <td>3.875660</td>\n",
              "      <td>6.465174</td>\n",
              "      <td>-2.128269</td>\n",
              "      <td>-2.498096</td>\n",
              "      <td>-4.392359</td>\n",
              "      <td>-3.131988</td>\n",
              "      <td>9.730388</td>\n",
              "      <td>-3.710759</td>\n",
              "      <td>-7.432478</td>\n",
              "      <td>-1.775938</td>\n",
              "      <td>...</td>\n",
              "      <td>3.272072</td>\n",
              "      <td>-2.839091</td>\n",
              "      <td>-3.424603</td>\n",
              "      <td>-6.268945</td>\n",
              "      <td>-7.425336</td>\n",
              "      <td>-7.084584</td>\n",
              "      <td>-2.076294</td>\n",
              "      <td>-2.995695</td>\n",
              "      <td>-3.599960</td>\n",
              "      <td>-0.257944</td>\n",
              "      <td>2.962409</td>\n",
              "      <td>-2.769238</td>\n",
              "      <td>-0.984059</td>\n",
              "      <td>0.445123</td>\n",
              "      <td>0.679267</td>\n",
              "      <td>1.818855</td>\n",
              "      <td>-6.895533</td>\n",
              "      <td>0.504862</td>\n",
              "      <td>0.108736</td>\n",
              "      <td>-1.025400</td>\n",
              "      <td>-0.305018</td>\n",
              "      <td>2.462928</td>\n",
              "      <td>-3.226782</td>\n",
              "      <td>4.923918</td>\n",
              "      <td>-4.128406</td>\n",
              "      <td>0.317418</td>\n",
              "      <td>-3.564642</td>\n",
              "      <td>2.072505</td>\n",
              "      <td>-1.778361</td>\n",
              "      <td>5.894495</td>\n",
              "      <td>5.8428</td>\n",
              "      <td>13.8463</td>\n",
              "      <td>0.8135</td>\n",
              "      <td>5.2091</td>\n",
              "      <td>11.6875</td>\n",
              "      <td>10.5404</td>\n",
              "      <td>4.2827</td>\n",
              "      <td>8.9821</td>\n",
              "      <td>10.4994</td>\n",
              "      <td>14.7483</td>\n",
              "    </tr>\n",
              "    <tr>\n",
              "      <th>4</th>\n",
              "      <td>52.713134</td>\n",
              "      <td>24.315340</td>\n",
              "      <td>4.334400</td>\n",
              "      <td>23.857627</td>\n",
              "      <td>-17.868964</td>\n",
              "      <td>16.346566</td>\n",
              "      <td>-15.373475</td>\n",
              "      <td>11.752637</td>\n",
              "      <td>-18.458728</td>\n",
              "      <td>-14.795923</td>\n",
              "      <td>10.218142</td>\n",
              "      <td>-13.561377</td>\n",
              "      <td>7.047135</td>\n",
              "      <td>-3.621697</td>\n",
              "      <td>-3.787832</td>\n",
              "      <td>3.067546</td>\n",
              "      <td>17.254123</td>\n",
              "      <td>4.517975</td>\n",
              "      <td>-8.437482</td>\n",
              "      <td>-18.405899</td>\n",
              "      <td>-0.629535</td>\n",
              "      <td>-2.576495</td>\n",
              "      <td>5.226259</td>\n",
              "      <td>-0.732091</td>\n",
              "      <td>6.217559</td>\n",
              "      <td>-9.273108</td>\n",
              "      <td>-6.827034</td>\n",
              "      <td>1.918704</td>\n",
              "      <td>3.031249</td>\n",
              "      <td>-2.198726</td>\n",
              "      <td>-3.790557</td>\n",
              "      <td>0.883328</td>\n",
              "      <td>2.690230</td>\n",
              "      <td>5.424953</td>\n",
              "      <td>-3.729647</td>\n",
              "      <td>-14.545226</td>\n",
              "      <td>-3.062583</td>\n",
              "      <td>-3.411238</td>\n",
              "      <td>-0.119474</td>\n",
              "      <td>4.174835</td>\n",
              "      <td>...</td>\n",
              "      <td>-1.700335</td>\n",
              "      <td>3.822139</td>\n",
              "      <td>-0.103439</td>\n",
              "      <td>-0.544171</td>\n",
              "      <td>9.538758</td>\n",
              "      <td>2.565866</td>\n",
              "      <td>-0.358631</td>\n",
              "      <td>9.527469</td>\n",
              "      <td>3.203868</td>\n",
              "      <td>-3.560096</td>\n",
              "      <td>-1.473070</td>\n",
              "      <td>-2.654762</td>\n",
              "      <td>4.163998</td>\n",
              "      <td>-1.309631</td>\n",
              "      <td>-0.513197</td>\n",
              "      <td>-7.231648</td>\n",
              "      <td>7.512688</td>\n",
              "      <td>-2.011657</td>\n",
              "      <td>0.729106</td>\n",
              "      <td>0.895544</td>\n",
              "      <td>-5.263140</td>\n",
              "      <td>-3.647652</td>\n",
              "      <td>-3.721410</td>\n",
              "      <td>-0.377687</td>\n",
              "      <td>5.721261</td>\n",
              "      <td>4.668138</td>\n",
              "      <td>-0.191238</td>\n",
              "      <td>-0.174466</td>\n",
              "      <td>2.694378</td>\n",
              "      <td>-6.055046</td>\n",
              "      <td>5.9405</td>\n",
              "      <td>13.8481</td>\n",
              "      <td>3.1736</td>\n",
              "      <td>5.7555</td>\n",
              "      <td>1.0273</td>\n",
              "      <td>13.3317</td>\n",
              "      <td>-0.1937</td>\n",
              "      <td>13.9547</td>\n",
              "      <td>11.5670</td>\n",
              "      <td>18.4685</td>\n",
              "    </tr>\n",
              "  </tbody>\n",
              "</table>\n",
              "<p>5 rows × 121 columns</p>\n",
              "</div>"
            ],
            "text/plain": [
              "         0          1          2    ...      118      119      120\n",
              "0  -5.606469 -23.554409  -1.899704  ...  15.6599  11.5659  18.5618\n",
              "1  34.878028  11.469291  -3.759774  ...  16.1622   8.9231  30.2645\n",
              "2  -4.790239  -0.334213  11.359318  ...   8.6674  11.4934  25.6820\n",
              "3  11.875370  14.050808  24.017588  ...   8.9821  10.4994  14.7483\n",
              "4  52.713134  24.315340   4.334400  ...  13.9547  11.5670  18.4685\n",
              "\n",
              "[5 rows x 121 columns]"
            ]
          },
          "metadata": {
            "tags": []
          },
          "execution_count": 14
        }
      ]
    },
    {
      "cell_type": "code",
      "metadata": {
        "id": "81oqOMeTapIa",
        "colab_type": "code",
        "colab": {}
      },
      "source": [
        "X = combined_features\n",
        "y = df.target"
      ],
      "execution_count": 0,
      "outputs": []
    },
    {
      "cell_type": "code",
      "metadata": {
        "id": "iS17xoOza12m",
        "colab_type": "code",
        "colab": {}
      },
      "source": [
        "X_train, X_test, y_train, y_test = train_test_split(X, y, random_state=1)"
      ],
      "execution_count": 0,
      "outputs": []
    },
    {
      "cell_type": "code",
      "metadata": {
        "id": "_VAcvyOHaFGh",
        "colab_type": "code",
        "colab": {}
      },
      "source": [
        "clf = lgbm.LGBMClassifier()"
      ],
      "execution_count": 0,
      "outputs": []
    },
    {
      "cell_type": "code",
      "metadata": {
        "id": "zpURJbJFcZMy",
        "colab_type": "code",
        "colab": {}
      },
      "source": [
        "params = {'max_depth': [-1],\n",
        "          'num_leaves': [31, 10, 5],\n",
        "          'learning_rate': [.1, .01],\n",
        "         'n_estimators': [200, 250],\n",
        "         'boosting_type':['goss']}"
      ],
      "execution_count": 0,
      "outputs": []
    },
    {
      "cell_type": "code",
      "metadata": {
        "id": "KQhdY4ZNcrNj",
        "colab_type": "code",
        "colab": {}
      },
      "source": [
        "gclf = GridSearchCV(clf, cv= 3, param_grid=params, scoring='accuracy', verbose=2)"
      ],
      "execution_count": 0,
      "outputs": []
    },
    {
      "cell_type": "code",
      "metadata": {
        "id": "I2HxEgO9ahxe",
        "colab_type": "code",
        "outputId": "4754edbd-e2ce-43a8-8028-fd4f01db7860",
        "colab": {
          "base_uri": "https://localhost:8080/",
          "height": 1000
        }
      },
      "source": [
        "gclf.fit(X_train, y_train)"
      ],
      "execution_count": 0,
      "outputs": [
        {
          "output_type": "stream",
          "text": [
            "Fitting 3 folds for each of 12 candidates, totalling 36 fits\n",
            "[CV] boosting_type=goss, learning_rate=0.1, max_depth=-1, n_estimators=200, num_leaves=31 \n"
          ],
          "name": "stdout"
        },
        {
          "output_type": "stream",
          "text": [
            "[Parallel(n_jobs=1)]: Using backend SequentialBackend with 1 concurrent workers.\n"
          ],
          "name": "stderr"
        },
        {
          "output_type": "stream",
          "text": [
            "[CV]  boosting_type=goss, learning_rate=0.1, max_depth=-1, n_estimators=200, num_leaves=31, total=  12.3s\n",
            "[CV] boosting_type=goss, learning_rate=0.1, max_depth=-1, n_estimators=200, num_leaves=31 \n"
          ],
          "name": "stdout"
        },
        {
          "output_type": "stream",
          "text": [
            "[Parallel(n_jobs=1)]: Done   1 out of   1 | elapsed:   12.3s remaining:    0.0s\n"
          ],
          "name": "stderr"
        },
        {
          "output_type": "stream",
          "text": [
            "[CV]  boosting_type=goss, learning_rate=0.1, max_depth=-1, n_estimators=200, num_leaves=31, total=  12.5s\n",
            "[CV] boosting_type=goss, learning_rate=0.1, max_depth=-1, n_estimators=200, num_leaves=31 \n",
            "[CV]  boosting_type=goss, learning_rate=0.1, max_depth=-1, n_estimators=200, num_leaves=31, total=  12.5s\n",
            "[CV] boosting_type=goss, learning_rate=0.1, max_depth=-1, n_estimators=200, num_leaves=10 \n",
            "[CV]  boosting_type=goss, learning_rate=0.1, max_depth=-1, n_estimators=200, num_leaves=10, total=   8.4s\n",
            "[CV] boosting_type=goss, learning_rate=0.1, max_depth=-1, n_estimators=200, num_leaves=10 \n",
            "[CV]  boosting_type=goss, learning_rate=0.1, max_depth=-1, n_estimators=200, num_leaves=10, total=   8.2s\n",
            "[CV] boosting_type=goss, learning_rate=0.1, max_depth=-1, n_estimators=200, num_leaves=10 \n",
            "[CV]  boosting_type=goss, learning_rate=0.1, max_depth=-1, n_estimators=200, num_leaves=10, total=   8.2s\n",
            "[CV] boosting_type=goss, learning_rate=0.1, max_depth=-1, n_estimators=200, num_leaves=5 \n",
            "[CV]  boosting_type=goss, learning_rate=0.1, max_depth=-1, n_estimators=200, num_leaves=5, total=   6.7s\n",
            "[CV] boosting_type=goss, learning_rate=0.1, max_depth=-1, n_estimators=200, num_leaves=5 \n",
            "[CV]  boosting_type=goss, learning_rate=0.1, max_depth=-1, n_estimators=200, num_leaves=5, total=   6.6s\n",
            "[CV] boosting_type=goss, learning_rate=0.1, max_depth=-1, n_estimators=200, num_leaves=5 \n",
            "[CV]  boosting_type=goss, learning_rate=0.1, max_depth=-1, n_estimators=200, num_leaves=5, total=   6.7s\n",
            "[CV] boosting_type=goss, learning_rate=0.1, max_depth=-1, n_estimators=250, num_leaves=31 \n",
            "[CV]  boosting_type=goss, learning_rate=0.1, max_depth=-1, n_estimators=250, num_leaves=31, total=  14.3s\n",
            "[CV] boosting_type=goss, learning_rate=0.1, max_depth=-1, n_estimators=250, num_leaves=31 \n",
            "[CV]  boosting_type=goss, learning_rate=0.1, max_depth=-1, n_estimators=250, num_leaves=31, total=  14.5s\n",
            "[CV] boosting_type=goss, learning_rate=0.1, max_depth=-1, n_estimators=250, num_leaves=31 \n",
            "[CV]  boosting_type=goss, learning_rate=0.1, max_depth=-1, n_estimators=250, num_leaves=31, total=  14.3s\n",
            "[CV] boosting_type=goss, learning_rate=0.1, max_depth=-1, n_estimators=250, num_leaves=10 \n",
            "[CV]  boosting_type=goss, learning_rate=0.1, max_depth=-1, n_estimators=250, num_leaves=10, total=   9.6s\n",
            "[CV] boosting_type=goss, learning_rate=0.1, max_depth=-1, n_estimators=250, num_leaves=10 \n",
            "[CV]  boosting_type=goss, learning_rate=0.1, max_depth=-1, n_estimators=250, num_leaves=10, total=   9.6s\n",
            "[CV] boosting_type=goss, learning_rate=0.1, max_depth=-1, n_estimators=250, num_leaves=10 \n",
            "[CV]  boosting_type=goss, learning_rate=0.1, max_depth=-1, n_estimators=250, num_leaves=10, total=   9.6s\n",
            "[CV] boosting_type=goss, learning_rate=0.1, max_depth=-1, n_estimators=250, num_leaves=5 \n",
            "[CV]  boosting_type=goss, learning_rate=0.1, max_depth=-1, n_estimators=250, num_leaves=5, total=   7.8s\n",
            "[CV] boosting_type=goss, learning_rate=0.1, max_depth=-1, n_estimators=250, num_leaves=5 \n",
            "[CV]  boosting_type=goss, learning_rate=0.1, max_depth=-1, n_estimators=250, num_leaves=5, total=   7.8s\n",
            "[CV] boosting_type=goss, learning_rate=0.1, max_depth=-1, n_estimators=250, num_leaves=5 \n",
            "[CV]  boosting_type=goss, learning_rate=0.1, max_depth=-1, n_estimators=250, num_leaves=5, total=   7.9s\n",
            "[CV] boosting_type=goss, learning_rate=0.01, max_depth=-1, n_estimators=200, num_leaves=31 \n",
            "[CV]  boosting_type=goss, learning_rate=0.01, max_depth=-1, n_estimators=200, num_leaves=31, total=  14.7s\n",
            "[CV] boosting_type=goss, learning_rate=0.01, max_depth=-1, n_estimators=200, num_leaves=31 \n",
            "[CV]  boosting_type=goss, learning_rate=0.01, max_depth=-1, n_estimators=200, num_leaves=31, total=  14.7s\n",
            "[CV] boosting_type=goss, learning_rate=0.01, max_depth=-1, n_estimators=200, num_leaves=31 \n",
            "[CV]  boosting_type=goss, learning_rate=0.01, max_depth=-1, n_estimators=200, num_leaves=31, total=  14.7s\n",
            "[CV] boosting_type=goss, learning_rate=0.01, max_depth=-1, n_estimators=200, num_leaves=10 \n",
            "[CV]  boosting_type=goss, learning_rate=0.01, max_depth=-1, n_estimators=200, num_leaves=10, total=   9.3s\n",
            "[CV] boosting_type=goss, learning_rate=0.01, max_depth=-1, n_estimators=200, num_leaves=10 \n",
            "[CV]  boosting_type=goss, learning_rate=0.01, max_depth=-1, n_estimators=200, num_leaves=10, total=   9.3s\n",
            "[CV] boosting_type=goss, learning_rate=0.01, max_depth=-1, n_estimators=200, num_leaves=10 \n",
            "[CV]  boosting_type=goss, learning_rate=0.01, max_depth=-1, n_estimators=200, num_leaves=10, total=   9.3s\n",
            "[CV] boosting_type=goss, learning_rate=0.01, max_depth=-1, n_estimators=200, num_leaves=5 \n",
            "[CV]  boosting_type=goss, learning_rate=0.01, max_depth=-1, n_estimators=200, num_leaves=5, total=   7.4s\n",
            "[CV] boosting_type=goss, learning_rate=0.01, max_depth=-1, n_estimators=200, num_leaves=5 \n",
            "[CV]  boosting_type=goss, learning_rate=0.01, max_depth=-1, n_estimators=200, num_leaves=5, total=   7.3s\n",
            "[CV] boosting_type=goss, learning_rate=0.01, max_depth=-1, n_estimators=200, num_leaves=5 \n",
            "[CV]  boosting_type=goss, learning_rate=0.01, max_depth=-1, n_estimators=200, num_leaves=5, total=   7.4s\n",
            "[CV] boosting_type=goss, learning_rate=0.01, max_depth=-1, n_estimators=250, num_leaves=31 \n",
            "[CV]  boosting_type=goss, learning_rate=0.01, max_depth=-1, n_estimators=250, num_leaves=31, total=  17.5s\n",
            "[CV] boosting_type=goss, learning_rate=0.01, max_depth=-1, n_estimators=250, num_leaves=31 \n",
            "[CV]  boosting_type=goss, learning_rate=0.01, max_depth=-1, n_estimators=250, num_leaves=31, total=  17.2s\n",
            "[CV] boosting_type=goss, learning_rate=0.01, max_depth=-1, n_estimators=250, num_leaves=31 \n",
            "[CV]  boosting_type=goss, learning_rate=0.01, max_depth=-1, n_estimators=250, num_leaves=31, total=  17.3s\n",
            "[CV] boosting_type=goss, learning_rate=0.01, max_depth=-1, n_estimators=250, num_leaves=10 \n",
            "[CV]  boosting_type=goss, learning_rate=0.01, max_depth=-1, n_estimators=250, num_leaves=10, total=  10.9s\n",
            "[CV] boosting_type=goss, learning_rate=0.01, max_depth=-1, n_estimators=250, num_leaves=10 \n",
            "[CV]  boosting_type=goss, learning_rate=0.01, max_depth=-1, n_estimators=250, num_leaves=10, total=  10.9s\n",
            "[CV] boosting_type=goss, learning_rate=0.01, max_depth=-1, n_estimators=250, num_leaves=10 \n",
            "[CV]  boosting_type=goss, learning_rate=0.01, max_depth=-1, n_estimators=250, num_leaves=10, total=  11.0s\n",
            "[CV] boosting_type=goss, learning_rate=0.01, max_depth=-1, n_estimators=250, num_leaves=5 \n",
            "[CV]  boosting_type=goss, learning_rate=0.01, max_depth=-1, n_estimators=250, num_leaves=5, total=   8.4s\n",
            "[CV] boosting_type=goss, learning_rate=0.01, max_depth=-1, n_estimators=250, num_leaves=5 \n",
            "[CV]  boosting_type=goss, learning_rate=0.01, max_depth=-1, n_estimators=250, num_leaves=5, total=   8.4s\n",
            "[CV] boosting_type=goss, learning_rate=0.01, max_depth=-1, n_estimators=250, num_leaves=5 \n",
            "[CV]  boosting_type=goss, learning_rate=0.01, max_depth=-1, n_estimators=250, num_leaves=5, total=   8.5s\n"
          ],
          "name": "stdout"
        },
        {
          "output_type": "stream",
          "text": [
            "[Parallel(n_jobs=1)]: Done  36 out of  36 | elapsed:  6.4min finished\n"
          ],
          "name": "stderr"
        },
        {
          "output_type": "execute_result",
          "data": {
            "text/plain": [
              "GridSearchCV(cv=3, error_score='raise-deprecating',\n",
              "             estimator=LGBMClassifier(boosting_type='gbdt', class_weight=None,\n",
              "                                      colsample_bytree=1.0,\n",
              "                                      importance_type='split',\n",
              "                                      learning_rate=0.1, max_depth=-1,\n",
              "                                      min_child_samples=20,\n",
              "                                      min_child_weight=0.001,\n",
              "                                      min_split_gain=0.0, n_estimators=100,\n",
              "                                      n_jobs=-1, num_leaves=31, objective=None,\n",
              "                                      random_state=None, reg_alpha=0.0,\n",
              "                                      reg_lambda=0.0, silent=True,\n",
              "                                      subsample=1.0, subsample_for_bin=200000,\n",
              "                                      subsample_freq=0),\n",
              "             iid='warn', n_jobs=None,\n",
              "             param_grid={'boosting_type': ['goss'],\n",
              "                         'learning_rate': [0.1, 0.01], 'max_depth': [-1],\n",
              "                         'n_estimators': [200, 250],\n",
              "                         'num_leaves': [31, 10, 5]},\n",
              "             pre_dispatch='2*n_jobs', refit=True, return_train_score=False,\n",
              "             scoring='accuracy', verbose=2)"
            ]
          },
          "metadata": {
            "tags": []
          },
          "execution_count": 20
        }
      ]
    },
    {
      "cell_type": "code",
      "metadata": {
        "id": "38a_i4tvd2EY",
        "colab_type": "code",
        "outputId": "dac6ef46-bcd1-4040-e646-898537cb3db5",
        "colab": {
          "base_uri": "https://localhost:8080/",
          "height": 102
        }
      },
      "source": [
        "gclf.best_params_"
      ],
      "execution_count": 0,
      "outputs": [
        {
          "output_type": "execute_result",
          "data": {
            "text/plain": [
              "{'boosting_type': 'goss',\n",
              " 'learning_rate': 0.1,\n",
              " 'max_depth': -1,\n",
              " 'n_estimators': 250,\n",
              " 'num_leaves': 10}"
            ]
          },
          "metadata": {
            "tags": []
          },
          "execution_count": 21
        }
      ]
    },
    {
      "cell_type": "code",
      "metadata": {
        "id": "iJ41LRz8eCbC",
        "colab_type": "code",
        "outputId": "fe086020-9d23-4c51-ea7a-c2433fadb93e",
        "colab": {
          "base_uri": "https://localhost:8080/",
          "height": 34
        }
      },
      "source": [
        "gclf.best_score_"
      ],
      "execution_count": 0,
      "outputs": [
        {
          "output_type": "execute_result",
          "data": {
            "text/plain": [
              "0.9068066666666666"
            ]
          },
          "metadata": {
            "tags": []
          },
          "execution_count": 22
        }
      ]
    },
    {
      "cell_type": "code",
      "metadata": {
        "id": "5U8yxD0Ba9iI",
        "colab_type": "code",
        "colab": {}
      },
      "source": [
        "preds = gclf.predict(X_test)"
      ],
      "execution_count": 0,
      "outputs": []
    },
    {
      "cell_type": "code",
      "metadata": {
        "id": "OnT9sfCobaIt",
        "colab_type": "code",
        "outputId": "44eadf0f-286c-4e65-ec14-f93c2066f36d",
        "colab": {
          "base_uri": "https://localhost:8080/",
          "height": 51
        }
      },
      "source": [
        "print(confusion_matrix(y_test, preds))"
      ],
      "execution_count": 0,
      "outputs": [
        {
          "output_type": "stream",
          "text": [
            "[[44830   227]\n",
            " [ 4370   573]]\n"
          ],
          "name": "stdout"
        }
      ]
    },
    {
      "cell_type": "code",
      "metadata": {
        "id": "xHTAZtxYb-QQ",
        "colab_type": "code",
        "outputId": "ba911c53-11c2-4949-c940-c5fde2dda21b",
        "colab": {
          "base_uri": "https://localhost:8080/",
          "height": 34
        }
      },
      "source": [
        "accuracy_score(y_test, preds)"
      ],
      "execution_count": 0,
      "outputs": [
        {
          "output_type": "execute_result",
          "data": {
            "text/plain": [
              "0.90806"
            ]
          },
          "metadata": {
            "tags": []
          },
          "execution_count": 25
        }
      ]
    },
    {
      "cell_type": "code",
      "metadata": {
        "id": "RH2fHQ4kbip2",
        "colab_type": "code",
        "colab": {}
      },
      "source": [
        ""
      ],
      "execution_count": 0,
      "outputs": []
    }
  ]
}